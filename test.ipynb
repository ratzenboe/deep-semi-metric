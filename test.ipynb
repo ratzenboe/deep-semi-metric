{
 "cells": [
  {
   "cell_type": "code",
   "id": "initial_id",
   "metadata": {
    "collapsed": true,
    "ExecuteTime": {
     "end_time": "2025-04-24T03:49:33.651576Z",
     "start_time": "2025-04-24T03:49:33.649241Z"
    }
   },
   "source": [
    "import numpy as np\n",
    "import pandas as pd\n",
    "import matplotlib.pyplot as plt\n",
    "import torch\n",
    "from modules.galactic2icrs import cartesianGalactic_to_ICRS_torch\n",
    "from modules import pairwise_min_velocity_diff, pairwise_min_velocity_diff_torch\n",
    "from modules import Trafo"
   ],
   "outputs": [],
   "execution_count": 26
  },
  {
   "metadata": {
    "ExecuteTime": {
     "end_time": "2025-04-24T03:49:34.722499Z",
     "start_time": "2025-04-24T03:49:34.715231Z"
    }
   },
   "cell_type": "code",
   "source": [
    "N = 5_000\n",
    "mu = np.array([\n",
    "    # X  Y  Z\n",
    "    1000, 1000, 1000,\n",
    "    # U V  W\n",
    "    1, 2, -1\n",
    "])\n",
    "# Dispersion in X\n",
    "sx = 1\n",
    "# Velocity dispersion\n",
    "sv = 1\n",
    "C = np.diag([sx, sx, sx, sv, sv, sv])\n",
    "\n",
    "# This is the Cartesian space where we should cluster in --> the latent space learned by the AE\n",
    "data = pd.DataFrame(\n",
    "    np.random.multivariate_normal(mu, C, N),\n",
    "    columns=['X', 'Y', 'Z', 'U', 'V', 'W']\n",
    ")\n",
    "\n",
    "data_icrs = Trafo().cart2spher(data.values)"
   ],
   "id": "75e3672d038ed0cf",
   "outputs": [],
   "execution_count": 27
  },
  {
   "metadata": {
    "ExecuteTime": {
     "end_time": "2025-04-24T03:49:41.760443Z",
     "start_time": "2025-04-24T03:49:41.756116Z"
    }
   },
   "cell_type": "code",
   "source": [
    "# We can then transform into the observed space using the transformation function below\n",
    "\n",
    "# It might be useful to add an MSE term into the loss for the actual observations (ra, dec, plx, pmra, pmdec)\n",
    "# since we also have these measurements, and it could make the network more robust.\n",
    "# Another loss could be on the shape of the radial velocities (rv) distribution. We have some observed rvs and\n",
    "# we expect that the distribution of the latent rvs should be similar to the observed one.\n",
    "# This could maybe be done using a Wasserstein distance between the two samples from (ideally the same distribution).\n",
    "\n",
    "# Transformation with custom function\n",
    "data_torch = torch.tensor(data.values, dtype=torch.float32)[None, :]\n",
    "# Create two batches out of data_torch\n",
    "# data_torch_batched = torch.cat([*data_torch.chunk(2, dim=1)], dim=0)\n",
    "half    = N // 2\n",
    "batch1  = data_torch[:, :half, :]    # (1, N/2, D)\n",
    "batch2  = data_torch[:, half:, :]    # (1, N/2, D)\n",
    "# fuse back along the same axis\n",
    "data_torch_batched = torch.cat([batch1, batch2], dim=0)\n",
    "\n",
    "z = cartesianGalactic_to_ICRS_torch(data_torch_batched)\n",
    "ra, dec, parallax, pmra, pmdec, _ = z.view(1, -1, 6).unbind(-1)  # shapes (B,N)\n",
    "dist = 1000.0 / parallax                          # pc"
   ],
   "id": "1150769aebbb45a0",
   "outputs": [],
   "execution_count": 30
  },
  {
   "metadata": {
    "ExecuteTime": {
     "end_time": "2025-04-24T03:49:42.466068Z",
     "start_time": "2025-04-24T03:49:42.463667Z"
    }
   },
   "cell_type": "code",
   "source": "data_torch_batched.shape",
   "id": "a0c9cf99b63dc87d",
   "outputs": [
    {
     "data": {
      "text/plain": [
       "torch.Size([2, 2500, 6])"
      ]
     },
     "execution_count": 31,
     "metadata": {},
     "output_type": "execute_result"
    }
   ],
   "execution_count": 31
  },
  {
   "metadata": {
    "ExecuteTime": {
     "end_time": "2025-04-24T03:49:43.226968Z",
     "start_time": "2025-04-24T03:49:43.172160Z"
    }
   },
   "cell_type": "code",
   "source": "plt.hist(pmdec - data_icrs['pmdec'].values, bins=100, label='RA', color='tab:blue', histtype='step');",
   "id": "433d4a1c2d360f67",
   "outputs": [
    {
     "data": {
      "text/plain": [
       "<Figure size 640x480 with 1 Axes>"
      ],
      "image/png": "[encoded data removed]"
     },
     "metadata": {},
     "output_type": "display_data"
    }
   ],
   "execution_count": 32
  },
  {
   "metadata": {},
   "cell_type": "markdown",
   "source": "# Compute minimal difference of the 3D velocity vectors",
   "id": "a1a9430183c6b5a4"
  },
  {
   "metadata": {
    "ExecuteTime": {
     "end_time": "2025-04-24T03:49:45.010641Z",
     "start_time": "2025-04-24T03:49:44.741686Z"
    }
   },
   "cell_type": "code",
   "source": "D_t = pairwise_min_velocity_diff_torch(z)",
   "id": "cfa7abeb460505cb",
   "outputs": [],
   "execution_count": 33
  },
  {
   "metadata": {
    "ExecuteTime": {
     "end_time": "2025-04-24T03:49:45.467762Z",
     "start_time": "2025-04-24T03:49:45.465106Z"
    }
   },
   "cell_type": "code",
   "source": "D_t.requires_grad",
   "id": "70a9314ac4b75e12",
   "outputs": [
    {
     "data": {
      "text/plain": [
       "False"
      ]
     },
     "execution_count": 34,
     "metadata": {},
     "output_type": "execute_result"
    }
   ],
   "execution_count": 34
  },
  {
   "metadata": {
    "ExecuteTime": {
     "end_time": "2025-04-24T03:49:46.029369Z",
     "start_time": "2025-04-24T03:49:46.025925Z"
    }
   },
   "cell_type": "code",
   "source": "D_t[0][:5, :5]",
   "id": "7f8533a91683f3cc",
   "outputs": [
    {
     "data": {
      "text/plain": [
       "tensor([[0.0000, 1.0069, 0.3965, 0.4151, 1.5206],\n",
       "        [1.0068, 0.0000, 1.4197, 0.5678, 2.2518],\n",
       "        [0.3963, 1.4197, 0.0000, 0.9350, 1.2778],\n",
       "        [0.4167, 0.5677, 0.9351, 0.0000, 1.9449],\n",
       "        [1.5373, 2.0176, 1.2778, 1.9440, 0.0000]])"
      ]
     },
     "execution_count": 35,
     "metadata": {},
     "output_type": "execute_result"
    }
   ],
   "execution_count": 35
  },
  {
   "metadata": {
    "ExecuteTime": {
     "end_time": "2025-04-24T03:49:47.680271Z",
     "start_time": "2025-04-24T03:49:47.341159Z"
    }
   },
   "cell_type": "code",
   "source": [
    "D_old = pairwise_min_velocity_diff(\n",
    "    ra=ra[:,:N//2].numpy().ravel(),\n",
    "    dec=dec[:,:N//2].numpy().ravel(),\n",
    "    pmra=pmra[:,:N//2].numpy().ravel(),\n",
    "    pmdec=pmdec[:,:N//2].numpy().ravel(),\n",
    "    dist=dist[:,:N//2].numpy().ravel(),\n",
    ")"
   ],
   "id": "2ee1b9f41b81279",
   "outputs": [
    {
     "name": "stderr",
     "output_type": "stream",
     "text": [
      "/Users/ratzenboe/Documents/work/code/DeepSemiMetric/modules/pairwise_min_cartesian_velocity.py:251: RuntimeWarning: divide by zero encountered in divide\n",
      "  vr_m = x_num / x_den\n",
      "/Users/ratzenboe/Documents/work/code/DeepSemiMetric/modules/pairwise_min_cartesian_velocity.py:261: RuntimeWarning: divide by zero encountered in divide\n",
      "  vr_n = y_num / y_den\n",
      "/Users/ratzenboe/Documents/work/code/DeepSemiMetric/modules/pairwise_min_cartesian_velocity.py:263: RuntimeWarning: invalid value encountered in subtract\n",
      "  norm2 = (a*vr_m - b*vr_n + c)**2 + (d*vr_m - e*vr_n + f)**2 + (g*vr_m - h*vr_n + i)**2\n"
     ]
    }
   ],
   "execution_count": 36
  },
  {
   "metadata": {
    "ExecuteTime": {
     "end_time": "2025-04-24T03:49:50.457055Z",
     "start_time": "2025-04-24T03:49:50.454200Z"
    }
   },
   "cell_type": "code",
   "source": "D_old[:5, :5]",
   "id": "33d5492fa830d0d5",
   "outputs": [
    {
     "data": {
      "text/plain": [
       "array([[0.        , 1.00684237, 0.39678079, 0.41404814, 1.5267905 ],\n",
       "       [1.00684237, 0.        , 1.41986382, 0.56815678, 1.20858896],\n",
       "       [0.39678079, 1.41986382, 0.        , 0.93505466, 1.27786303],\n",
       "       [0.41404814, 0.56815678, 0.93505466, 0.        , 1.94305754],\n",
       "       [1.5267905 , 1.20858896, 1.27786303, 1.94305754, 0.        ]])"
      ]
     },
     "execution_count": 37,
     "metadata": {},
     "output_type": "execute_result"
    }
   ],
   "execution_count": 37
  },
  {
   "metadata": {
    "ExecuteTime": {
     "end_time": "2025-04-24T03:52:14.361553Z",
     "start_time": "2025-04-24T03:52:14.136804Z"
    }
   },
   "cell_type": "code",
   "source": "plt.hist(np.ravel(D_t[0] - D_old)**2, bins=100, histtype='step', label='diff', color='tab:orange', log=True);",
   "id": "510f444a25739072",
   "outputs": [
    {
     "data": {
      "text/plain": [
       "<Figure size 640x480 with 1 Axes>"
      ],
      "image/png": "[encoded data removed]"
     },
     "metadata": {},
     "output_type": "display_data"
    }
   ],
   "execution_count": 44
  },
  {
   "metadata": {
    "ExecuteTime": {
     "end_time": "2025-04-24T03:50:39.849578Z",
     "start_time": "2025-04-24T03:50:39.772457Z"
    }
   },
   "cell_type": "code",
   "source": "np.nanmean((np.log(D_t[0]) - np.log(D_old))**2)",
   "id": "8d99144a8a799b12",
   "outputs": [
    {
     "name": "stderr",
     "output_type": "stream",
     "text": [
      "/var/folders/q4/vrqcgjz9259cd9jkzmpv3zth0000gn/T/ipykernel_63074/3576368521.py:1: RuntimeWarning: divide by zero encountered in log\n",
      "  np.nanmean((np.log(D_t[0]) - np.log(D_old))**2)\n",
      "/var/folders/q4/vrqcgjz9259cd9jkzmpv3zth0000gn/T/ipykernel_63074/3576368521.py:1: RuntimeWarning: invalid value encountered in subtract\n",
      "  np.nanmean((np.log(D_t[0]) - np.log(D_old))**2)\n"
     ]
    },
    {
     "data": {
      "text/plain": [
       "0.03384676428286427"
      ]
     },
     "execution_count": 41,
     "metadata": {},
     "output_type": "execute_result"
    }
   ],
   "execution_count": 41
  },
  {
   "metadata": {
    "ExecuteTime": {
     "end_time": "2025-04-24T02:52:07.710872Z",
     "start_time": "2025-04-24T02:52:07.697808Z"
    }
   },
   "cell_type": "code",
   "source": [
    "# np.allclose(np.ravel(D_t.numpy()[0] - D_old), 0, atol=1e-5)\n",
    "\n",
    "np.nanmax(np.ravel(D_t.numpy()[0] - D_old))"
   ],
   "id": "6ba50fde24b85d85",
   "outputs": [
    {
     "data": {
      "text/plain": [
       "5.599336549977352e-10"
      ]
     },
     "execution_count": 24,
     "metadata": {},
     "output_type": "execute_result"
    }
   ],
   "execution_count": 24
  },
  {
   "metadata": {
    "ExecuteTime": {
     "end_time": "2025-04-24T02:52:08.649779Z",
     "start_time": "2025-04-24T02:52:08.631036Z"
    }
   },
   "cell_type": "code",
   "source": "np.isnan(D_t).sum(), np.isnan(D_old).sum()",
   "id": "a0672c9103ded44a",
   "outputs": [
    {
     "data": {
      "text/plain": [
       "(tensor(0), 0)"
      ]
     },
     "execution_count": 25,
     "metadata": {},
     "output_type": "execute_result"
    }
   ],
   "execution_count": 25
  },
  {
   "metadata": {
    "ExecuteTime": {
     "end_time": "2025-04-24T02:51:40.760102Z",
     "start_time": "2025-04-24T02:51:40.758885Z"
    }
   },
   "cell_type": "code",
   "source": "",
   "id": "3283936c975f46c",
   "outputs": [],
   "execution_count": null
  }
 ],
 "metadata": {
  "kernelspec": {
   "display_name": "Python 3",
   "language": "python",
   "name": "python3"
  },
  "language_info": {
   "codemirror_mode": {
    "name": "ipython",
    "version": 2
   },
   "file_extension": ".py",
   "mimetype": "text/x-python",
   "name": "python",
   "nbconvert_exporter": "python",
   "pygments_lexer": "ipython2",
   "version": "2.7.6"
  }
 },
 "nbformat": 4,
 "nbformat_minor": 5
}
